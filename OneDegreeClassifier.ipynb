{
 "cells": [
  {
   "cell_type": "code",
   "execution_count": 33,
   "metadata": {},
   "outputs": [],
   "source": [
    "# UrbanClassifier Toolkit -- 1 Degree (Aprox 110 Km)"
   ]
  },
  {
   "cell_type": "code",
   "execution_count": 34,
   "metadata": {},
   "outputs": [],
   "source": [
    "# Import Libraries"
   ]
  },
  {
   "cell_type": "code",
   "execution_count": 165,
   "metadata": {},
   "outputs": [],
   "source": [
    "import gdal\n",
    "import math\n",
    "import numpy as np\n",
    "import json\n",
    "import pandas as pd"
   ]
  },
  {
   "cell_type": "code",
   "execution_count": 166,
   "metadata": {},
   "outputs": [],
   "source": [
    "# Open TIFF File, and convert raster to multidimensional array format - convert into a matrix that is stored as a multidimensional array\n",
    "# NOTE : Matrix is very large"
   ]
  },
  {
   "cell_type": "code",
   "execution_count": 167,
   "metadata": {},
   "outputs": [],
   "source": [
    "src = gdal.Open('gpw_v4_population_count_rev11_2020_1_deg.tif')\n",
    "myarray = np.array(src.GetRasterBand(1).ReadAsArray())"
   ]
  },
  {
   "cell_type": "code",
   "execution_count": 168,
   "metadata": {},
   "outputs": [],
   "source": [
    "# GeoTrans takes the Header Data from the Raster File to make proper Calculations"
   ]
  },
  {
   "cell_type": "code",
   "execution_count": 169,
   "metadata": {},
   "outputs": [],
   "source": [
    "geoTrans = src.GetGeoTransform()"
   ]
  },
  {
   "cell_type": "code",
   "execution_count": 170,
   "metadata": {},
   "outputs": [],
   "source": [
    "# geoTrans is stored as the following : (-180.0, 0.00833333333333333, 0.0, 89.99999999999991, 0.0, -0.00833333333333333)"
   ]
  },
  {
   "cell_type": "code",
   "execution_count": 171,
   "metadata": {},
   "outputs": [],
   "source": [
    "# Coordinates Conversion Function : "
   ]
  },
  {
   "cell_type": "code",
   "execution_count": 172,
   "metadata": {},
   "outputs": [],
   "source": [
    "def world2Pixel(geoMatrix, x, y):\n",
    "    \n",
    "    # Uses a gdal geomatrix ( gdal.GetGeoTransform() ) to calculate the pixel location of a geospatial coordinate\n",
    "    \n",
    "    ulX = geoMatrix[0]\n",
    "    ulY = geoMatrix[3]\n",
    "    xDist = geoMatrix[1]\n",
    "    yDist = geoMatrix[5]\n",
    "    rtnX = geoMatrix[2]\n",
    "    rtnY = geoMatrix[4]\n",
    "    pixel = int((x - ulX) / xDist)\n",
    "    line = int((ulY - y) / abs(yDist))\n",
    "    \n",
    "    return (pixel, line)"
   ]
  },
  {
   "cell_type": "code",
   "execution_count": 173,
   "metadata": {},
   "outputs": [],
   "source": [
    "def population(arr, x, y):\n",
    "    \n",
    "    try:\n",
    "    \n",
    "        pixel = world2Pixel(geoTrans, x, y)[0]\n",
    "        line = world2Pixel(geoTrans, x, y)[1]\n",
    "        return arr[line][pixel]\n",
    "        \n",
    "    except: \n",
    "        \n",
    "        return 'Error'"
   ]
  },
  {
   "cell_type": "code",
   "execution_count": 174,
   "metadata": {},
   "outputs": [],
   "source": [
    "# EXAMPLES :"
   ]
  },
  {
   "cell_type": "code",
   "execution_count": 175,
   "metadata": {},
   "outputs": [
    {
     "data": {
      "text/plain": [
       "7761219.0"
      ]
     },
     "execution_count": 175,
     "metadata": {},
     "output_type": "execute_result"
    }
   ],
   "source": [
    "population(myarray, -74.0059728, 40.7127753)"
   ]
  },
  {
   "cell_type": "code",
   "execution_count": 176,
   "metadata": {},
   "outputs": [],
   "source": [
    "# Testing Stories"
   ]
  },
  {
   "cell_type": "code",
   "execution_count": 177,
   "metadata": {},
   "outputs": [],
   "source": [
    "def readFile(filepath): \n",
    "    \n",
    "    with open(filepath, 'r') as f:\n",
    "        stories = json.load(f)\n",
    "        \n",
    "    return list(stories)"
   ]
  },
  {
   "cell_type": "code",
   "execution_count": 194,
   "metadata": {},
   "outputs": [],
   "source": [
    "publications = readFile('publications.json')"
   ]
  },
  {
   "cell_type": "code",
   "execution_count": 195,
   "metadata": {},
   "outputs": [],
   "source": [
    "def extractCoordinates(stories):\n",
    "    \n",
    "    result = []\n",
    "    \n",
    "    for story in stories:\n",
    "        \n",
    "        # stories have 'title' attribute\n",
    "        # publications have 'name' attribute\n",
    "        \n",
    "        \n",
    "        obj = {\n",
    "            'title' : story['name'],\n",
    "            'longitude' : story['longitude'],\n",
    "            'latitude' : story['latitude'],\n",
    "            \n",
    "            # for publications -> must seperate\n",
    "            \n",
    "            'city' : story['city'],\n",
    "            'state': story['state'],\n",
    "            'country': story['country']\n",
    "        }\n",
    "        \n",
    "        result.append(obj)\n",
    "        \n",
    "        \n",
    "    return result"
   ]
  },
  {
   "cell_type": "code",
   "execution_count": 196,
   "metadata": {},
   "outputs": [],
   "source": [
    "coordinates = extractCoordinates(stories)"
   ]
  },
  {
   "cell_type": "code",
   "execution_count": 197,
   "metadata": {},
   "outputs": [],
   "source": [
    "# Example -> Coordinate Object Format"
   ]
  },
  {
   "cell_type": "code",
   "execution_count": 198,
   "metadata": {},
   "outputs": [
    {
     "data": {
      "text/plain": [
       "{'title': 'Diplomat East Africa',\n",
       " 'longitude': 37.906193,\n",
       " 'latitude': -0.023559,\n",
       " 'city': '',\n",
       " 'state': '',\n",
       " 'country': 'Kenya'}"
      ]
     },
     "execution_count": 198,
     "metadata": {},
     "output_type": "execute_result"
    }
   ],
   "source": [
    "coordinates[0]"
   ]
  },
  {
   "cell_type": "code",
   "execution_count": 199,
   "metadata": {},
   "outputs": [],
   "source": [
    "def test(stories, bound, arr):\n",
    "    \n",
    "    coordinates = extractCoordinates(stories)\n",
    "    \n",
    "    \n",
    "    for coordinate in coordinates:\n",
    "                \n",
    "            urban = False\n",
    "            x = coordinate['longitude']\n",
    "            y = coordinate['latitude']\n",
    "            total = population(arr, x, y)\n",
    "        \n",
    "            if (total == 'Error' ):\n",
    "            \n",
    "                coordinate['urban'] = 'Error'\n",
    "                coordinate['bound'] = str(bound) + ' People'\n",
    "                coordinate['radius'] = '110 Km Squared'\n",
    "                coordinate['total'] = 'Error'\n",
    "        \n",
    "        \n",
    "        \n",
    "            else:\n",
    "        \n",
    "                if (total >= bound):\n",
    "                    urban = True\n",
    "\n",
    "                coordinate['urban'] = urban\n",
    "                coordinate['bound'] = str(bound) + ' People'\n",
    "                coordinate['radius'] = '110 Km Squared'\n",
    "                coordinate['total'] = str(population(arr, x, y))\n",
    "            \n",
    "        \n",
    "    return coordinates"
   ]
  },
  {
   "cell_type": "code",
   "execution_count": 200,
   "metadata": {},
   "outputs": [],
   "source": [
    "test = test(publications, 50000, myarray)"
   ]
  },
  {
   "cell_type": "code",
   "execution_count": 201,
   "metadata": {},
   "outputs": [
    {
     "data": {
      "text/plain": [
       "{'title': 'Diplomat East Africa',\n",
       " 'longitude': 37.906193,\n",
       " 'latitude': -0.023559,\n",
       " 'city': '',\n",
       " 'state': '',\n",
       " 'country': 'Kenya',\n",
       " 'urban': True,\n",
       " 'bound': '50000 People',\n",
       " 'radius': '110 Km Squared',\n",
       " 'total': '3265681.5'}"
      ]
     },
     "execution_count": 201,
     "metadata": {},
     "output_type": "execute_result"
    }
   ],
   "source": [
    "test[0]"
   ]
  },
  {
   "cell_type": "code",
   "execution_count": 202,
   "metadata": {},
   "outputs": [],
   "source": [
    "def extract(stories, bound, arr):\n",
    "    \n",
    "    test_set = test(stories, bound, arr)\n",
    "    \n",
    "    with open('Tests/1_Degree_Population_bound=' + str(bound) + '.json', 'w') as json_file:\n",
    "        json.dump(test_set, json_file)\n",
    "    \n",
    "    return"
   ]
  },
  {
   "cell_type": "code",
   "execution_count": 203,
   "metadata": {},
   "outputs": [],
   "source": [
    "# Example -> \n",
    "# extract(stories, 50000, myarray)"
   ]
  },
  {
   "cell_type": "code",
   "execution_count": 204,
   "metadata": {},
   "outputs": [],
   "source": [
    "# Convert to DataFrame"
   ]
  },
  {
   "cell_type": "code",
   "execution_count": 205,
   "metadata": {},
   "outputs": [],
   "source": [
    "def toDataFrame(test_set):\n",
    "    \n",
    "    df = pd.DataFrame(columns = ['title' , 'longitude', 'latitude' , 'city', 'state', 'country', 'urban', 'bound', 'radius', 'total']) \n",
    "    for test in test_set:\n",
    "        i = test_set.index(test)\n",
    "        df.loc[i] = test\n",
    "        \n",
    "    return df"
   ]
  },
  {
   "cell_type": "code",
   "execution_count": 209,
   "metadata": {},
   "outputs": [],
   "source": [
    "# Example -> \n",
    "# df = toDataFrame(test)"
   ]
  },
  {
   "cell_type": "code",
   "execution_count": 207,
   "metadata": {},
   "outputs": [],
   "source": [
    "def toCSV(test_set, filename):\n",
    "    \n",
    "    toDataFrame(test_set).to_csv(filename, encoding='utf-8', index=False)\n",
    "    \n",
    "    return"
   ]
  },
  {
   "cell_type": "code",
   "execution_count": 208,
   "metadata": {},
   "outputs": [],
   "source": [
    "toCSV(test, \"Tests/publications.csv\")"
   ]
  },
  {
   "cell_type": "code",
   "execution_count": null,
   "metadata": {},
   "outputs": [],
   "source": []
  }
 ],
 "metadata": {
  "kernelspec": {
   "display_name": "Python 3",
   "language": "python",
   "name": "python3"
  },
  "language_info": {
   "codemirror_mode": {
    "name": "ipython",
    "version": 3
   },
   "file_extension": ".py",
   "mimetype": "text/x-python",
   "name": "python",
   "nbconvert_exporter": "python",
   "pygments_lexer": "ipython3",
   "version": "3.7.6"
  }
 },
 "nbformat": 4,
 "nbformat_minor": 4
}

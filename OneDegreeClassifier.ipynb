{
 "cells": [
  {
   "cell_type": "code",
   "execution_count": 1,
   "metadata": {},
   "outputs": [],
   "source": [
    "# UrbanClassifier Toolkit -- 1 Degree (Aprox 110 Km)"
   ]
  },
  {
   "cell_type": "code",
   "execution_count": 2,
   "metadata": {},
   "outputs": [],
   "source": [
    "# Import Libraries"
   ]
  },
  {
   "cell_type": "code",
   "execution_count": 3,
   "metadata": {},
   "outputs": [],
   "source": [
    "import gdal\n",
    "import math\n",
    "import numpy as np\n",
    "import json\n",
    "import pandas as pd"
   ]
  },
  {
   "cell_type": "code",
   "execution_count": 4,
   "metadata": {},
   "outputs": [],
   "source": [
    "# Open TIFF File, and convert raster to multidimensional array format - convert into a matrix that is stored as a multidimensional array\n",
    "# NOTE : Matrix is very large"
   ]
  },
  {
   "cell_type": "code",
   "execution_count": 5,
   "metadata": {},
   "outputs": [],
   "source": [
    "src = gdal.Open('gpw_v4_population_count_rev11_2020_1_deg.tif')\n",
    "myarray = np.array(src.GetRasterBand(1).ReadAsArray())"
   ]
  },
  {
   "cell_type": "code",
   "execution_count": 6,
   "metadata": {},
   "outputs": [],
   "source": [
    "np.savetxt(\"1_deg\", myarray)"
   ]
  },
  {
   "cell_type": "code",
   "execution_count": 7,
   "metadata": {},
   "outputs": [],
   "source": [
    "# GeoTrans takes the Header Data from the Raster File to make proper Calculations"
   ]
  },
  {
   "cell_type": "code",
   "execution_count": 8,
   "metadata": {},
   "outputs": [],
   "source": [
    "geoTrans = src.GetGeoTransform()"
   ]
  },
  {
   "cell_type": "code",
   "execution_count": 9,
   "metadata": {},
   "outputs": [],
   "source": [
    "# geoTrans is stored as the following : (-180.0, 0.00833333333333333, 0.0, 89.99999999999991, 0.0, -0.00833333333333333)"
   ]
  },
  {
   "cell_type": "code",
   "execution_count": 10,
   "metadata": {},
   "outputs": [],
   "source": [
    "# Coordinates Conversion Function : "
   ]
  },
  {
   "cell_type": "code",
   "execution_count": 11,
   "metadata": {},
   "outputs": [],
   "source": [
    "def world2Pixel(geoMatrix, x, y):\n",
    "    \n",
    "    # Uses a gdal geomatrix ( gdal.GetGeoTransform() ) to calculate the pixel location of a geospatial coordinate\n",
    "    \n",
    "    ulX = geoMatrix[0]\n",
    "    ulY = geoMatrix[3]\n",
    "    xDist = geoMatrix[1]\n",
    "    yDist = geoMatrix[5]\n",
    "    rtnX = geoMatrix[2]\n",
    "    rtnY = geoMatrix[4]\n",
    "    pixel = int((x - ulX) / xDist)\n",
    "    line = int((ulY - y) / abs(yDist))\n",
    "    \n",
    "    return (pixel, line)"
   ]
  },
  {
   "cell_type": "code",
   "execution_count": 12,
   "metadata": {},
   "outputs": [],
   "source": [
    "def population(arr, x, y):\n",
    "    \n",
    "    try:\n",
    "    \n",
    "        pixel = world2Pixel(geoTrans, x, y)[0]\n",
    "        line = world2Pixel(geoTrans, x, y)[1]\n",
    "        return arr[line][pixel]\n",
    "        \n",
    "    except: \n",
    "        \n",
    "        return 'Error'"
   ]
  },
  {
   "cell_type": "code",
   "execution_count": 13,
   "metadata": {},
   "outputs": [],
   "source": [
    "# EXAMPLES :"
   ]
  },
  {
   "cell_type": "code",
   "execution_count": 14,
   "metadata": {},
   "outputs": [
    {
     "data": {
      "text/plain": [
       "7761219.0"
      ]
     },
     "execution_count": 14,
     "metadata": {},
     "output_type": "execute_result"
    }
   ],
   "source": [
    "population(myarray, -74.0059728, 40.7127753)"
   ]
  },
  {
   "cell_type": "code",
   "execution_count": 15,
   "metadata": {},
   "outputs": [],
   "source": [
    "# Testing Stories"
   ]
  },
  {
   "cell_type": "code",
   "execution_count": 16,
   "metadata": {},
   "outputs": [],
   "source": [
    "def readFile(filepath): \n",
    "    \n",
    "    with open(filepath, 'r') as f:\n",
    "        stories = json.load(f)\n",
    "        \n",
    "    return list(stories)"
   ]
  },
  {
   "cell_type": "code",
   "execution_count": 17,
   "metadata": {},
   "outputs": [],
   "source": [
    "publications = readFile('publications.json')"
   ]
  },
  {
   "cell_type": "code",
   "execution_count": 18,
   "metadata": {},
   "outputs": [],
   "source": [
    "def extractCoordinates(stories):\n",
    "    \n",
    "    result = []\n",
    "    \n",
    "    for story in stories:\n",
    "        \n",
    "        # stories have 'title' attribute\n",
    "        # publications have 'name' attribute\n",
    "        \n",
    "        \n",
    "        obj = {\n",
    "            'title' : story['name'],\n",
    "            'longitude' : story['longitude'],\n",
    "            'latitude' : story['latitude'],\n",
    "            \n",
    "            # for publications -> must seperate\n",
    "            \n",
    "            'city' : story['city'],\n",
    "            'state': story['state'],\n",
    "            'country': story['country']\n",
    "        }\n",
    "        \n",
    "        result.append(obj)\n",
    "        \n",
    "        \n",
    "    return result"
   ]
  },
  {
   "cell_type": "code",
   "execution_count": 19,
   "metadata": {},
   "outputs": [],
   "source": [
    "coordinates = extractCoordinates(publications)"
   ]
  },
  {
   "cell_type": "code",
   "execution_count": 20,
   "metadata": {},
   "outputs": [],
   "source": [
    "# Example -> Coordinate Object Format"
   ]
  },
  {
   "cell_type": "code",
   "execution_count": 21,
   "metadata": {},
   "outputs": [
    {
     "data": {
      "text/plain": [
       "{'title': 'Diplomat East Africa',\n",
       " 'longitude': 37.906193,\n",
       " 'latitude': -0.023559,\n",
       " 'city': '',\n",
       " 'state': '',\n",
       " 'country': 'Kenya'}"
      ]
     },
     "execution_count": 21,
     "metadata": {},
     "output_type": "execute_result"
    }
   ],
   "source": [
    "coordinates[0]"
   ]
  },
  {
   "cell_type": "code",
   "execution_count": 22,
   "metadata": {},
   "outputs": [],
   "source": [
    "def test(stories, bound, arr):\n",
    "    \n",
    "    coordinates = extractCoordinates(stories)\n",
    "    \n",
    "    \n",
    "    for coordinate in coordinates:\n",
    "                \n",
    "            urban = False\n",
    "            x = coordinate['longitude']\n",
    "            y = coordinate['latitude']\n",
    "            total = population(arr, x, y)\n",
    "        \n",
    "            if (total == 'Error' ):\n",
    "            \n",
    "                coordinate['urban'] = 'Error'\n",
    "                coordinate['bound'] = str(bound) + ' People'\n",
    "                coordinate['distance'] = 'Approximately 110 Km'\n",
    "                coordinate['total'] = 'Error'\n",
    "        \n",
    "        \n",
    "        \n",
    "            else:\n",
    "        \n",
    "                if (total >= bound):\n",
    "                    urban = True\n",
    "\n",
    "                coordinate['urban'] = urban\n",
    "                coordinate['bound'] = str(bound) + ' People'\n",
    "                coordinate['distance'] = 'Approximately 110 Km'\n",
    "                coordinate['total'] = str(population(arr, x, y))\n",
    "            \n",
    "        \n",
    "    return coordinates"
   ]
  },
  {
   "cell_type": "code",
   "execution_count": 23,
   "metadata": {},
   "outputs": [],
   "source": [
    "test = test(publications, 50000, myarray)"
   ]
  },
  {
   "cell_type": "code",
   "execution_count": 24,
   "metadata": {},
   "outputs": [
    {
     "data": {
      "text/plain": [
       "{'title': 'Diplomat East Africa',\n",
       " 'longitude': 37.906193,\n",
       " 'latitude': -0.023559,\n",
       " 'city': '',\n",
       " 'state': '',\n",
       " 'country': 'Kenya',\n",
       " 'urban': True,\n",
       " 'bound': '50000 People',\n",
       " 'distance': 'Approximately 110 Km',\n",
       " 'total': '3265681.5'}"
      ]
     },
     "execution_count": 24,
     "metadata": {},
     "output_type": "execute_result"
    }
   ],
   "source": [
    "test[0]"
   ]
  },
  {
   "cell_type": "code",
   "execution_count": 25,
   "metadata": {},
   "outputs": [],
   "source": [
    "def extract(stories, bound, arr):\n",
    "    \n",
    "    test_set = test(stories, bound, arr)\n",
    "    \n",
    "    with open('Tests/1_Degree_Population_bound=' + str(bound) + '.json', 'w') as json_file:\n",
    "        json.dump(test_set, json_file)\n",
    "    \n",
    "    return"
   ]
  },
  {
   "cell_type": "code",
   "execution_count": 26,
   "metadata": {},
   "outputs": [],
   "source": [
    "# Example -> \n",
    "# extract(stories, 50000, myarray)"
   ]
  },
  {
   "cell_type": "code",
   "execution_count": 27,
   "metadata": {},
   "outputs": [],
   "source": [
    "# Convert to DataFrame"
   ]
  },
  {
   "cell_type": "code",
   "execution_count": 28,
   "metadata": {},
   "outputs": [],
   "source": [
    "def toDataFrame(test_set):\n",
    "    \n",
    "    df = pd.DataFrame(columns = ['title' , 'longitude', 'latitude' , 'city', 'state', 'country', 'urban', 'bound', 'distance', 'total']) \n",
    "    for test in test_set:\n",
    "        i = test_set.index(test)\n",
    "        df.loc[i] = test\n",
    "        \n",
    "    return df"
   ]
  },
  {
   "cell_type": "code",
   "execution_count": 29,
   "metadata": {},
   "outputs": [],
   "source": [
    "# Example -> \n",
    "# df = toDataFrame(test)"
   ]
  },
  {
   "cell_type": "code",
   "execution_count": 30,
   "metadata": {},
   "outputs": [],
   "source": [
    "def toCSV(test_set, filename):\n",
    "    \n",
    "    df = toDataFrame(test_set)\n",
    "    urban = df.loc[df[\"urban\"] == True]\n",
    "    not_urban = df.loc[df[\"urban\"] == False]\n",
    "    error = df.loc[df[\"urban\"] == \"Error\"]\n",
    "    \n",
    "    df.to_csv(filename + \"_all.csv\", encoding='utf-8', index=False)\n",
    "    urban.to_csv(filename + \"_classification=urban.csv\", encoding='utf-8', index=False)\n",
    "    not_urban.to_csv(filename + \"_classification=not_urban.csv\", encoding='utf-8', index=False)\n",
    "    not_urban.to_csv(filename + \"_classification=error.csv\", encoding='utf-8', index=False)\n",
    "    \n",
    "    urban_percentage = ( len(urban) / len(df)) * 100\n",
    "    not_urban_percentage = ( len(not_urban) / len(df)) * 100\n",
    "    error_percentage = ( len(error) / len(df)) * 100\n",
    "    \n",
    "    \n",
    "    return (urban_percentage, not_urban_percentage, error_percentage)"
   ]
  },
  {
   "cell_type": "code",
   "execution_count": 88,
   "metadata": {},
   "outputs": [
    {
     "data": {
      "text/plain": [
       "(94.31818181818183, 1.7045454545454544, 3.977272727272727)"
      ]
     },
     "execution_count": 88,
     "metadata": {},
     "output_type": "execute_result"
    }
   ],
   "source": [
    "toCSV(test, \"Tests/publications\")"
   ]
  }
 ],
 "metadata": {
  "kernelspec": {
   "display_name": "Python 3",
   "language": "python",
   "name": "python3"
  },
  "language_info": {
   "codemirror_mode": {
    "name": "ipython",
    "version": 3
   },
   "file_extension": ".py",
   "mimetype": "text/x-python",
   "name": "python",
   "nbconvert_exporter": "python",
   "pygments_lexer": "ipython3",
   "version": "3.7.6"
  }
 },
 "nbformat": 4,
 "nbformat_minor": 4
}
